{
 "cells": [
  {
   "cell_type": "markdown",
   "metadata": {},
   "source": [
    "## Задача 1\n",
    "Определить коэффициент запаса прочности болта M14х1,5, на котором подвешен блок, через который поднимают груз массой 100 кг. Болт предварительно не затянут. Предел текучести стали, из которой изготовлен болт, 300 МПа.\n",
    "\n",
    "![Схема задачи](/pics/1.png)\n",
    "Параметры резьбы М14х1,5:\n",
    "- номинальный диаметр - 14\n",
    "- средний диаметр - 13,026\n",
    "- диаметр по впадинами - 12,16"
   ]
  },
  {
   "cell_type": "code",
   "execution_count": null,
   "metadata": {},
   "outputs": [],
   "source": []
  }
 ],
 "metadata": {
  "kernelspec": {
   "display_name": "Python 3",
   "language": "python",
   "name": "python3"
  },
  "language_info": {
   "codemirror_mode": {
    "name": "ipython",
    "version": 3
   },
   "file_extension": ".py",
   "mimetype": "text/x-python",
   "name": "python",
   "nbconvert_exporter": "python",
   "pygments_lexer": "ipython3",
   "version": "3.7.6"
  }
 },
 "nbformat": 4,
 "nbformat_minor": 4
}
