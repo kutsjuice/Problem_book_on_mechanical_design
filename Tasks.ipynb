{
 "cells": [
  {
   "cell_type": "code",
   "execution_count": 3,
   "metadata": {},
   "outputs": [],
   "source": [
    "import numpy as np"
   ]
  },
  {
   "cell_type": "markdown",
   "metadata": {},
   "source": [
    "## Задача 1\n",
    "Определить коэффициент запаса прочности болта M14х1,5, на котором подвешен блок, через который поднимают груз массой 100 кг. Болт предварительно не затянут. Предел текучести стали, из которой изготовлен болт, 300 МПа.\n",
    "\n",
    "![Схема задачи](/pics/1.png)\n",
    "Параметры резьбы М14х1,5:\n",
    "- номинальный диаметр - 14\n",
    "- средний диаметр - 13,026\n",
    "- диаметр по впадинами - 12,16"
   ]
  },
  {
   "cell_type": "code",
   "execution_count": 6,
   "metadata": {},
   "outputs": [
    {
     "name": "stdout",
     "output_type": "stream",
     "text": [
      "F = 1962.0\n",
      "A = 116.13337066966173\n",
      "sig = 16.894368850972704\n",
      "S = 17.75739612685959\n"
     ]
    }
   ],
   "source": [
    "g = 9.81\n",
    "pi = np.pi\n",
    "m = 100\n",
    "d3 = 12.16\n",
    "s_lim = 300\n",
    "\n",
    "F = 2*m*g\n",
    "A = 0.25*pi*d3**2\n",
    "sig = F/A\n",
    "S = s_lim/sig\n",
    "\n",
    "print(\"F =\", F)\n",
    "print(\"A =\", A)\n",
    "print(\"sig =\", sig)\n",
    "print(\"S =\", S)"
   ]
  }
 ],
 "metadata": {
  "kernelspec": {
   "display_name": "Python 3",
   "language": "python",
   "name": "python3"
  },
  "language_info": {
   "codemirror_mode": {
    "name": "ipython",
    "version": 3
   },
   "file_extension": ".py",
   "mimetype": "text/x-python",
   "name": "python",
   "nbconvert_exporter": "python",
   "pygments_lexer": "ipython3",
   "version": "3.7.6"
  }
 },
 "nbformat": 4,
 "nbformat_minor": 4
}
