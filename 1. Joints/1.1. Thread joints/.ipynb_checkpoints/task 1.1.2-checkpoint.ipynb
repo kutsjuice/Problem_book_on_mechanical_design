{
 "cells": [
  {
   "cell_type": "markdown",
   "metadata": {},
   "source": [
    "# Задача 2\n",
    "Определите угол подъема метрической резьбы с рабочей высотой профиля 1,3 мм и средним диаметром 16,7 мм"
   ]
  },
  {
   "cell_type": "markdown",
   "metadata": {},
   "source": [
    "Справочные данные:\n",
    "- в метрической резьбе $H_1 / P = 0.54$"
   ]
  },
  {
   "cell_type": "code",
   "execution_count": 4,
   "metadata": {},
   "outputs": [
    {
     "name": "stdout",
     "output_type": "stream",
     "text": [
      "Угол подъема резьбы psi = 2.627\n"
     ]
    }
   ],
   "source": [
    "import math\n",
    "\n",
    "# исходные данные\n",
    "H_1 = 1.3\n",
    "d_2 = 16.7\n",
    "\n",
    "# решение\n",
    "P = H_1 / 0.54\n",
    "psi = math.atan(P / (math.pi * d_2))\n",
    "\n",
    "print(f\"Угол подъема резьбы psi = {round(math.degrees(psi), 3)}\")"
   ]
  }
 ],
 "metadata": {
  "kernelspec": {
   "display_name": "Python 3",
   "language": "python",
   "name": "python3"
  },
  "language_info": {
   "codemirror_mode": {
    "name": "ipython",
    "version": 3
   },
   "file_extension": ".py",
   "mimetype": "text/x-python",
   "name": "python",
   "nbconvert_exporter": "python",
   "pygments_lexer": "ipython3",
   "version": "3.7.6"
  }
 },
 "nbformat": 4,
 "nbformat_minor": 4
}
