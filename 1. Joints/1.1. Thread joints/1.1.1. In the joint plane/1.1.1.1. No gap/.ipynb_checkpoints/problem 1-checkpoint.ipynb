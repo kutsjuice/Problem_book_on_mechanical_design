{
 "cells": [
  {
   "cell_type": "markdown",
   "metadata": {},
   "source": [
    "# Задание 1\n",
    "Проверить выполнение условий прочности на срез и на смятие для болта, поставленного без зазора (рис. ). F = 3000 Н. Предел текучести стали болта 400 МПа. Диаметр стержня болта 13 мм. Длина гладкой части болта 25 мм."
   ]
  },
  {
   "cell_type": "markdown",
   "metadata": {},
   "source": [
    "сюда картинку"
   ]
  },
  {
   "cell_type": "code",
   "execution_count": 1,
   "metadata": {},
   "outputs": [],
   "source": [
    "# исходные данные\n",
    "F = 3000         # сила, действующая в плоскости стыка\n",
    "sigma_t = 400    # предел текучести материала болта, МПа\n",
    "d = 13           # диаметр гладкой части болта, мм\n",
    "l = 25           # длина гладкой части болта, мм\n",
    "h = 15           # толщина детали, мм"
   ]
  },
  {
   "cell_type": "markdown",
   "metadata": {},
   "source": [
    "## Решение\n",
    "Сначала найдем допустимые напряжения смятия $[\\sigma]_{см}$ и среза $[\\tau]_{ср}$:\n",
    "\n",
    "$$\n",
    "[\\sigma]_{см} = 0{,}4\\sigma_t ~,\n",
    "$$\n",
    "\n",
    "$$\n",
    "[\\tau]_{ср} = 0{,}25\\sigma_t ~,\n",
    "$$\n",
    "\n",
    "где $\\sigma_t$ - предел текучести материала винта, МПа."
   ]
  },
  {
   "cell_type": "code",
   "execution_count": 2,
   "metadata": {},
   "outputs": [
    {
     "name": "stdout",
     "output_type": "stream",
     "text": [
      "Допустимое напряжение смятия - 160.0 МПа\n",
      "Допустимое напряжение среза - 100.0 МПа\n"
     ]
    }
   ],
   "source": [
    "# решение\n",
    "import math\n",
    "\n",
    "sigma_sm_dop = 0.4 * sigma_t    # допускаемое напряжение смятия\n",
    "tau_sr_dop = 0.25 * sigma_t     # допускаемое напряжение среза\n",
    "print(f'Допустимое напряжение смятия - {sigma_sm_dop:.4} МПа\\nДопустимое напряжение среза - {tau_sr_dop:.4} МПа')"
   ]
  },
  {
   "cell_type": "markdown",
   "metadata": {},
   "source": [
    "Найдем напряжение среза в болте. Считая, что нагрузка распределяется по сечению болта равномерно, напряжение среза $\\tau_{ср}$ можно посчитать по формуле:\n",
    "\n",
    "$$\n",
    "\\tau_{ср} = \\frac{F}{A_{ср}} = \\frac{F}{\\cfrac{\\pi d^2}{4}} ~,\n",
    "$$\n",
    "\n",
    "где $A_{ср}$ - площадь поверхности среза, мм; $d$ - диаметр гладкой части винта, мм."
   ]
  },
  {
   "cell_type": "code",
   "execution_count": 9,
   "metadata": {},
   "outputs": [
    {
     "name": "stdout",
     "output_type": "stream",
     "text": [
      "Напряжение среза - 22.6 МПа\n"
     ]
    }
   ],
   "source": [
    "A_sr = math.pi * d**2 / 4\n",
    "tau_sr = F / A_sr\n",
    "print(f'Напряжение среза - {tau_sr:.3} МПа')"
   ]
  },
  {
   "cell_type": "markdown",
   "metadata": {},
   "source": [
    "Найдем напряжение смятия в болте. Следует учесть, что болт по-разному нагружен там, где он касается деталей. Наиболее нагруженной частью является та, которая соприкасается с нижней деталью. Длину участка соприкосновения (длина рабочей части винта) $l_1$ можно посчитать по формуле:\n",
    "\n",
    "$$\n",
    "l_1 = l - h ~,\n",
    "$$\n",
    "\n",
    "где $l$ - длина гладкой части болта, мм; $h$ - толщина верхней детали, мм."
   ]
  },
  {
   "cell_type": "code",
   "execution_count": 10,
   "metadata": {},
   "outputs": [
    {
     "name": "stdout",
     "output_type": "stream",
     "text": [
      "Длина рабочей части винта - 10.0 мм\n"
     ]
    }
   ],
   "source": [
    "l_1 = float(l - h)\n",
    "print(f'Длина рабочей части винта - {l_1:.4} мм')"
   ]
  },
  {
   "cell_type": "markdown",
   "metadata": {},
   "source": [
    "Напряжения смятия $\\sigma_{см}$ можно посчитать по формуле:\n",
    "\n",
    "$$\n",
    "\\sigma_{см} = \\frac{F}{A_{см}} = \\frac{F}{l_1 d} ~,\n",
    "$$\n",
    "\n",
    "где $A_{см}$ - площадь поверхности смятия (поверхность смятия - сечение цилиндра)."
   ]
  },
  {
   "cell_type": "code",
   "execution_count": 11,
   "metadata": {},
   "outputs": [
    {
     "name": "stdout",
     "output_type": "stream",
     "text": [
      "Напряжение смятия - 23.1 МПа\n"
     ]
    }
   ],
   "source": [
    "sigma_sm = F / (d * l_1)\n",
    "print(f'Напряжение смятия - {sigma_sm:.3} МПа')"
   ]
  },
  {
   "cell_type": "markdown",
   "metadata": {},
   "source": [
    "Проверяем, выполняются ли условия прочности:\n",
    "\n",
    "$$\n",
    "\\sigma_{см} \\leqslant [\\sigma]_{см} ~, \\\\\n",
    "\\tau_{ср} \\leqslant [\\tau]_{ср} ~.\n",
    "$$"
   ]
  },
  {
   "cell_type": "code",
   "execution_count": 12,
   "metadata": {},
   "outputs": [
    {
     "name": "stdout",
     "output_type": "stream",
     "text": [
      "Условие прочности на срез выполняется -  True\n",
      "Условие прочности на смятие выполняется -  True\n"
     ]
    }
   ],
   "source": [
    "print('Условие прочности на срез выполняется - ', tau_sr <= tau_sr_dop)\n",
    "print('Условие прочности на смятие выполняется - ', sigma_sm <= sigma_sm_dop)"
   ]
  }
 ],
 "metadata": {
  "kernelspec": {
   "display_name": "Python 3 (Spyder)",
   "language": "python3",
   "name": "python3"
  },
  "language_info": {
   "codemirror_mode": {
    "name": "ipython",
    "version": 3
   },
   "file_extension": ".py",
   "mimetype": "text/x-python",
   "name": "python",
   "nbconvert_exporter": "python",
   "pygments_lexer": "ipython3",
   "version": "3.8.8"
  }
 },
 "nbformat": 4,
 "nbformat_minor": 4
}
