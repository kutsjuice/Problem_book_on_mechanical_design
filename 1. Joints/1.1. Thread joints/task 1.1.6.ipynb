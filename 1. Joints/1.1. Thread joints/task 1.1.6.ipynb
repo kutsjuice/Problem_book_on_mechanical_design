{
 "cells": [
  {
   "cell_type": "markdown",
   "metadata": {},
   "source": [
    "# Задача 6\n",
    "Определите момент сил трения на торце головки винта (с потайным шестигранником). Диаметр отверстия под винт – 25 мм. Коэффициент трения – 0,1. Растягивающее усилие в болте – 10000 Н. Диаметр головки винта – 36 мм."
   ]
  },
  {
   "cell_type": "code",
   "execution_count": 4,
   "metadata": {},
   "outputs": [
    {
     "name": "stdout",
     "output_type": "stream",
     "text": [
      "Момент сил трения на торце T_t = 15.2 Н*м\n"
     ]
    }
   ],
   "source": [
    "import math\n",
    "\n",
    "# Исходные данные\n",
    "d_0 = 25    # диаметр отверстия под винт, мм\n",
    "d_1 = 36    # номинальный диаметр резьбы, мм\n",
    "f = 0.1     # коэффициент трения\n",
    "F = 10000   # растягивающее усилие в болте, Н\n",
    "\n",
    "# Решение\n",
    "d_sr = (d_0 + d_1) / 2\n",
    "T_t = F * d_sr / 2 * f / 1000\n",
    "\n",
    "T_t = round(T_t, 3)\n",
    "print(f'Момент сил трения на торце T_t = {T_t:.3} Н*м')"
   ]
  }
 ],
 "metadata": {
  "kernelspec": {
   "display_name": "Python 3",
   "language": "python",
   "name": "python3"
  },
  "language_info": {
   "codemirror_mode": {
    "name": "ipython",
    "version": 3
   },
   "file_extension": ".py",
   "mimetype": "text/x-python",
   "name": "python",
   "nbconvert_exporter": "python",
   "pygments_lexer": "ipython3",
   "version": "3.7.6"
  }
 },
 "nbformat": 4,
 "nbformat_minor": 4
}
