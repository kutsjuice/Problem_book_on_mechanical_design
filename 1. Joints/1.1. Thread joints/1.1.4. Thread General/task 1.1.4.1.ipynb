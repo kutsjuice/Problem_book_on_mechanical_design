{
 "cells": [
  {
   "cell_type": "markdown",
   "metadata": {},
   "source": [
    "# Задача 1\n",
    "Определите шаг резьбы, если угол подъема резьбы равен $2.60^\\circ$, а средний диаметр 14 мм."
   ]
  },
  {
   "cell_type": "code",
   "execution_count": 6,
   "metadata": {},
   "outputs": [
    {
     "name": "stdout",
     "output_type": "stream",
     "text": [
      "Шаг резьбы p = 1.997\n"
     ]
    }
   ],
   "source": [
    "import math\n",
    "\n",
    "# исходные данные\n",
    "psi = 2.60\n",
    "d_2 = 14\n",
    "\n",
    "# решение\n",
    "p = d_2 * math.tan(math.radians(psi)) * math.pi\n",
    "p = round(p, 3)\n",
    "\n",
    "print(f'Шаг резьбы p = {p} мм')"
   ]
  }
 ],
 "metadata": {
  "kernelspec": {
   "display_name": "Python 3",
   "language": "python",
   "name": "python3"
  },
  "language_info": {
   "codemirror_mode": {
    "name": "ipython",
    "version": 3
   },
   "file_extension": ".py",
   "mimetype": "text/x-python",
   "name": "python",
   "nbconvert_exporter": "python",
   "pygments_lexer": "ipython3",
   "version": "3.7.7"
  }
 },
 "nbformat": 4,
 "nbformat_minor": 4
}
