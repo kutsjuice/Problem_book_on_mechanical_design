{
 "cells": [
  {
   "cell_type": "markdown",
   "metadata": {},
   "source": [
    "# Задача 7\n",
    "Определите усилие, которое должен приложить рабочий, завинчивающий резьбовое соединение ключом длиной 310 мм, чтобы создать в болте М18 растягивающие усилие 7000 Н. Коэффициент трения – 0,1. Шаг резьбы – 2,5 мм. Силой трения на торце гайки можно пренебречь."
   ]
  },
  {
   "cell_type": "markdown",
   "metadata": {},
   "source": [
    "Справочные данные:\n",
    "- в метрической резьбе $d_2 = d - 0.649P$"
   ]
  },
  {
   "cell_type": "code",
   "execution_count": 1,
   "metadata": {},
   "outputs": [
    {
     "name": "stdout",
     "output_type": "stream",
     "text": [
      "Сила, прикладываемая рабочим F_r = 9.46 Н\n"
     ]
    }
   ],
   "source": [
    "import math\n",
    "\n",
    "# Исходные данные\n",
    "P = 2.5    # шаг резьбы, мм\n",
    "d = 18     # номинальный диаметр резьбы, мм\n",
    "f = 0.1    # коэффициент трения в резьбе\n",
    "F = 7000   # растягивающее усилие в болте, Н\n",
    "l_r = 310    # длина ключа, мм\n",
    "\n",
    "# Решение\n",
    "gamma = math.radians(30)\n",
    "phi_1 = math.atan(f) / math.cos(gamma)\n",
    "d_2 = d - 0.649 * P\n",
    "psi = math.atan(P / (math.pi * d_2))\n",
    "T_r = F * d_2 / 2 * math.tan(psi + phi_1) / 1000\n",
    "F_r = T_r * 1000 / l_r\n",
    "\n",
    "F_r = round(F_r, 3)\n",
    "print(f'Сила, прикладываемая рабочим F_r = {T_r:.3} Н')"
   ]
  }
 ],
 "metadata": {
  "kernelspec": {
   "display_name": "Python 3",
   "language": "python",
   "name": "python3"
  },
  "language_info": {
   "codemirror_mode": {
    "name": "ipython",
    "version": 3
   },
   "file_extension": ".py",
   "mimetype": "text/x-python",
   "name": "python",
   "nbconvert_exporter": "python",
   "pygments_lexer": "ipython3",
   "version": "3.7.6"
  }
 },
 "nbformat": 4,
 "nbformat_minor": 4
}
