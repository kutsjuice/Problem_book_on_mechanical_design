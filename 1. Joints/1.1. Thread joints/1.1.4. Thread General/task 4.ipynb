{
 "cells": [
  {
   "cell_type": "markdown",
   "metadata": {},
   "source": [
    "# Задача 4\n",
    "Определите момент сопротивления в метрической резьбе. Номинальный диаметр резьбы – 24 мм. Коэффициент трения – 0,1. Шаг резьбы – 3 мм. Растягивающее усилие в болте – 8000 Н"
   ]
  },
  {
   "cell_type": "markdown",
   "metadata": {},
   "source": [
    "Справочные данные:\n",
    "- в метрической резьбе $d_2 = d - 0.649P$"
   ]
  },
  {
   "cell_type": "code",
   "execution_count": 6,
   "metadata": {},
   "outputs": [
    {
     "name": "stdout",
     "output_type": "stream",
     "text": [
      "Момент сопротивления в резьбе T_r = 14.1 Н*м\n"
     ]
    }
   ],
   "source": [
    "import math\n",
    "\n",
    "# Исходные данные\n",
    "P = 3      # шаг резьбы, мм\n",
    "d = 24     # номинальный диаметр резьбы, мм\n",
    "f = 0.1    # коэффициент трения в резьбе\n",
    "F = 8000   # растягивающее усилие в болте, Н\n",
    "\n",
    "# Решение\n",
    "gamma = math.radians(30)\n",
    "phi_1 = math.atan(f) / math.cos(gamma)\n",
    "d_2 = d - 0.649 * P\n",
    "psi = math.atan(P / (math.pi * d_2))\n",
    "T_r = F * d_2 / 2 * math.tan(psi + phi_1) / 1000\n",
    "\n",
    "T_r = round(T_r, 3)\n",
    "print(f'Момент сопротивления в резьбе T_r = {T_r:.3} Н*м')"
   ]
  }
 ],
 "metadata": {
  "kernelspec": {
   "display_name": "Python 3",
   "language": "python",
   "name": "python3"
  },
  "language_info": {
   "codemirror_mode": {
    "name": "ipython",
    "version": 3
   },
   "file_extension": ".py",
   "mimetype": "text/x-python",
   "name": "python",
   "nbconvert_exporter": "python",
   "pygments_lexer": "ipython3",
   "version": "3.8.5"
  }
 },
 "nbformat": 4,
 "nbformat_minor": 4
}
