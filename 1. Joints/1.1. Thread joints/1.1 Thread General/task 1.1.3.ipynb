{
 "cells": [
  {
   "cell_type": "markdown",
   "metadata": {},
   "source": [
    "# Задача 3\n",
    "Определите средний диаметр резьбы М18 с шагом 2"
   ]
  },
  {
   "cell_type": "markdown",
   "metadata": {},
   "source": [
    "Справочные данные:\n",
    "- в метрической резьбе $d_2 = d - 0.649P$"
   ]
  },
  {
   "cell_type": "code",
   "execution_count": 6,
   "metadata": {},
   "outputs": [
    {
     "name": "stdout",
     "output_type": "stream",
     "text": [
      "Средний диаметр резьбы d_2 = 16.702 мм\n"
     ]
    }
   ],
   "source": [
    "# Исходные данные\n",
    "P = 2\n",
    "d = 18\n",
    "\n",
    "# Решение\n",
    "d_2 = d - 0.649 * P\n",
    "\n",
    "d_2 = round(d_2, 3)\n",
    "print(f'Средний диаметр резьбы d_2 = {d_2} мм')"
   ]
  }
 ],
 "metadata": {
  "kernelspec": {
   "display_name": "Python 3",
   "language": "python",
   "name": "python3"
  },
  "language_info": {
   "codemirror_mode": {
    "name": "ipython",
    "version": 3
   },
   "file_extension": ".py",
   "mimetype": "text/x-python",
   "name": "python",
   "nbconvert_exporter": "python",
   "pygments_lexer": "ipython3",
   "version": "3.7.6"
  }
 },
 "nbformat": 4,
 "nbformat_minor": 4
}
