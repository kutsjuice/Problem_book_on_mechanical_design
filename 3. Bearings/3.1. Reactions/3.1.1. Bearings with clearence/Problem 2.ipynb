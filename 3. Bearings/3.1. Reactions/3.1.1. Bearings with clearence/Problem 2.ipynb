{
 "cells": [
  {
   "cell_type": "markdown",
   "metadata": {},
   "source": [
    "Тихоходный вал одноступенчатого прямозубого редуктора расположен на шариковых радиальных подшипниках 208, расстояние между которыми $L = 85$ мм. Передача выполнена без смещения. Номинальный момент на валу $T = 120$ Нм. Делительный диаметр колеса $d_2 = 180 мм$. Расположение колеса относительно опор - симметричное.\n",
    "Требуется определить максимальное допустимое смещение конца вала, если известно, что жесткость установленой муфты составляет $c_r = 180\\sqrt[3]{T}$. Коэффициент запаса по грузоподьемности $S$ принять $3,2$. "
   ]
  }
 ],
 "metadata": {
  "kernelspec": {
   "display_name": "Python 3",
   "language": "python",
   "name": "python3"
  },
  "language_info": {
   "codemirror_mode": {
    "name": "ipython",
    "version": 3
   },
   "file_extension": ".py",
   "mimetype": "text/x-python",
   "name": "python",
   "nbconvert_exporter": "python",
   "pygments_lexer": "ipython3",
   "version": "3.7.7"
  }
 },
 "nbformat": 4,
 "nbformat_minor": 4
}
