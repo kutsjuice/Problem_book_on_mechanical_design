{
 "cells": [
  {
   "cell_type": "markdown",
   "metadata": {},
   "source": [
    "Промежуточный вал двухступенчатого косозубого соосного редуктора расположен на шариковых радиальных подшипниках, расстояние между которыми $L = 200$ мм.\n",
    "Расстояние от опоры до быстроходного колеса $l_1 = 70$ мм, а между колесом и тихоходной шестернью $l_2 = 60$ мм.\n",
    "Угол наклона быстроходной ступени $\\beta_1 = 8^{\\circ}$, а тихоходной --- $\\beta_2 = 12^{\\circ}$.\n",
    "Определить реакции в подшипниках, приняв направления наклона зубьев тихоходной и быстроходной ступеней оптимальным (вызывающих меньшие реакции)."
   ]
  }
 ],
 "metadata": {
  "kernelspec": {
   "display_name": "Python 3",
   "language": "python",
   "name": "python3"
  },
  "language_info": {
   "codemirror_mode": {
    "name": "ipython",
    "version": 3
   },
   "file_extension": ".py",
   "mimetype": "text/x-python",
   "name": "python",
   "nbconvert_exporter": "python",
   "pygments_lexer": "ipython3",
   "version": "3.7.7"
  }
 },
 "nbformat": 4,
 "nbformat_minor": 4
}
