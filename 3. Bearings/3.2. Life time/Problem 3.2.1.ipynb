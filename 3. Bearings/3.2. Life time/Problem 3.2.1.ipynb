{
 "cells": [
  {
   "cell_type": "markdown",
   "metadata": {},
   "source": [
    "На шариковый радиальный подшипник 312 действуют радиальная $F_r = 7500$ Н и осевая $F_a = 4800$ Н нагрузки. Определить 90% ресурс подшипника $L_{10h}$, если вал, на котором установлен подшипник, вращается с частотой вращения $n=1410$ мин$^{-1}$.  "
   ]
  },
  {
   "cell_type": "markdown",
   "metadata": {},
   "source": [
    "Решение\n",
    "Рассчитаем значение коэффициента $e$\n",
    "$$e = 0{,}289\\left(\\frac{f_0 F_a}{C_0}\\right)^{0{,}234},$$\n",
    "где $f_0$ - коэффициент зависящий геометрии подшипника, $F_a$ - осевая нагрузка, действующая на подшипник, $C_0$ - статическая грузоподъемность подшипника.\n",
    "Коэффициент $f_0$ определяется по ГОСТ 18854-2013, или может быть вычислен по следующей аппроксимирующей формуле\n",
    "\\begin{equation}\n",
    "f_0 =\n",
    "\\begin{cases}\n",
    "14{,}7 + 20 f_g, & \\text{если $f_g<=0{,}09$;} \\\\\n",
    "18{,}7 - 23{,}3 f_g, & \\text{если $f_g>0{,}09$.}\n",
    "\\end{cases},\n",
    "\\end{equation}\n",
    "где $f_g = \\frac{D_w}{D_{wp}} \\cos{\\alpha} \\approx 0{,}61\\frac{D-d}{D+d}\\cos{\\alpha}$, а $\\alpha$ - номинальный угол контакта подшипника.\n",
    "\n",
    "Для подшипника 312 $d =60$ мм, $D = 130$ мм, $\\alpha=0$, $C_r=81{,}9$ кН и $C_0r=52{,}0$ кН. Тогда "
   ]
  },
  {
   "cell_type": "code",
   "execution_count": 26,
   "metadata": {},
   "outputs": [],
   "source": [
    "d = 60\n",
    "D = 130\n",
    "F_a = 4800\n",
    "F_r = 12500\n",
    "C_0 = 52000\n",
    "C = 81900\n",
    "n = 1410"
   ]
  },
  {
   "cell_type": "code",
   "execution_count": 28,
   "metadata": {},
   "outputs": [
    {
     "name": "stdout",
     "output_type": "stream",
     "text": [
      "f_0 = 13.463631578947368\n"
     ]
    }
   ],
   "source": [
    "f_g = 0.61*(D-d)/(D+d)\n",
    "f_0 = (18.7 - 23.3*f_g) if (f_g>0.09) else (14.7 + 20*f_g)\n",
    "print(\"f_0 =\", f_0)"
   ]
  },
  {
   "cell_type": "code",
   "execution_count": 29,
   "metadata": {},
   "outputs": [
    {
     "name": "stdout",
     "output_type": "stream",
     "text": [
      "e = 0.35916826396761126\n",
      "F_a/F_r =  0.384\n"
     ]
    }
   ],
   "source": [
    "e = 0.289*(f_0*F_a/C_0)\n",
    "print(\"e =\", e)\n",
    "print(\"F_a/F_r = \", F_a/F_r)"
   ]
  },
  {
   "cell_type": "markdown",
   "metadata": {},
   "source": [
    "Поскольку $\\frac{F_a}{F_r}>e$, то $X=0{,}56$, a $Y=\\frac{0{,}44}{e}$"
   ]
  },
  {
   "cell_type": "code",
   "execution_count": 16,
   "metadata": {},
   "outputs": [],
   "source": [
    "X = 0.56\n",
    "Y = 0.44/e"
   ]
  },
  {
   "cell_type": "code",
   "execution_count": 24,
   "metadata": {},
   "outputs": [
    {
     "name": "stdout",
     "output_type": "stream",
     "text": [
      "P =  14112.353179919694 Н\n",
      "N =  195457975.054142 оборотов\n",
      "L_10h =  2310.3779557227185 часов или 96.26574815511327 дней\n"
     ]
    }
   ],
   "source": [
    "P = (X*F_r+Y*F_a)*1.4*1\n",
    "N = 1e6*(C/P)**3\n",
    "L = N/n/60\n",
    "print(\"P = \",P,\"Н\")\n",
    "print(\"N = \",N,\"оборотов\")\n",
    "print(\"L_10h = \",L,\"часов или\", L/24,'дней')"
   ]
  }
 ],
 "metadata": {
  "kernelspec": {
   "display_name": "Python 3",
   "language": "python",
   "name": "python3"
  },
  "language_info": {
   "codemirror_mode": {
    "name": "ipython",
    "version": 3
   },
   "file_extension": ".py",
   "mimetype": "text/x-python",
   "name": "python",
   "nbconvert_exporter": "python",
   "pygments_lexer": "ipython3",
   "version": "3.7.6"
  }
 },
 "nbformat": 4,
 "nbformat_minor": 5
}
