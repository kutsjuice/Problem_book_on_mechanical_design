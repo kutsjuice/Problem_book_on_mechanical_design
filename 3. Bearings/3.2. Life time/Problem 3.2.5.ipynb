{
 "cells": [
  {
   "cell_type": "markdown",
   "metadata": {},
   "source": [
    "На приводоном валу ленточного транспортера установлены шариковые радиальные подшипники 2132 ГОСТ 8328-75, динамическая грузоподъемность $C$ которого \n",
    "составляет $229\\mspace{3pt}кН$. Определеить ресурс подшипника в днях, если известен его суточный режим работы, данные по которому представленны в таблице.\n",
    "\n",
    "|№ инт.| Длительность, ч. | Нагрузка $F_r,\\mspace{3pt}кН$ | Частота вращения $n,\\mspace{3pt}мин^{-1}$ |\n",
    "| -:|:-:| :-:|:-:|\n",
    "| 1 | 2 | 100| 40|\n",
    "| 2 | 4 | 80 | 50|\n",
    "| 3 | 6 | 60 |100|\n",
    "| 4 | 12| 30 | 20|\n"
   ]
  },
  {
   "cell_type": "code",
   "execution_count": null,
   "metadata": {},
   "outputs": [],
   "source": []
  }
 ],
 "metadata": {
  "kernelspec": {
   "display_name": "Python 3",
   "language": "python",
   "name": "python3"
  },
  "language_info": {
   "codemirror_mode": {
    "name": "ipython",
    "version": 3
   },
   "file_extension": ".py",
   "mimetype": "text/x-python",
   "name": "python",
   "nbconvert_exporter": "python",
   "pygments_lexer": "ipython3",
   "version": "3.7.6"
  }
 },
 "nbformat": 4,
 "nbformat_minor": 4
}
