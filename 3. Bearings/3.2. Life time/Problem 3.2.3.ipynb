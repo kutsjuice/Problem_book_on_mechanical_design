{
 "cells": [
  {
   "cell_type": "markdown",
   "metadata": {},
   "source": [
    "Расчитать 95% ресурс для роликового радиального подшипника 2232 ГОСТ 8328-75, если на него действует радиальная нагрузка $F_r = 160\\mspace{3pt}кН$, а динамическая грузоподъемность $C = 501\\mspace{3pt}кН$."
   ]
  }
 ],
 "metadata": {
  "kernelspec": {
   "display_name": "Python 3",
   "language": "python",
   "name": "python3"
  },
  "language_info": {
   "codemirror_mode": {
    "name": "ipython",
    "version": 3
   },
   "file_extension": ".py",
   "mimetype": "text/x-python",
   "name": "python",
   "nbconvert_exporter": "python",
   "pygments_lexer": "ipython3",
   "version": "3.7.6"
  }
 },
 "nbformat": 4,
 "nbformat_minor": 4
}
