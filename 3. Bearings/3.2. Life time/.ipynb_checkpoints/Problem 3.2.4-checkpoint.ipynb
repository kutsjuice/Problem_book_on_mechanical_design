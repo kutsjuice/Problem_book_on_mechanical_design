{
 "cells": [
  {
   "cell_type": "markdown",
   "metadata": {},
   "source": [
    "На радиальноупорный шариковый подшипник 66412 ГОСТ 831-75 действуют силы $F_r = 45050\\mspace{3pt}Н$ и $F_a= 12300\\mspace{3pt}Н$. Рассчитать вероятность отказа через $L_h = 5000\\mspace{3pt}ч.$, если его номинальная частота вращения составляет $180\\mspace{3pt}мин^{-1}$, а динамическая грузоподъемность составляет $C = 125000\\mspace{3pt}Н$."
   ]
  }
 ],
 "metadata": {
  "kernelspec": {
   "display_name": "Python 3",
   "language": "python",
   "name": "python3"
  },
  "language_info": {
   "codemirror_mode": {
    "name": "ipython",
    "version": 3
   },
   "file_extension": ".py",
   "mimetype": "text/x-python",
   "name": "python",
   "nbconvert_exporter": "python",
   "pygments_lexer": "ipython3",
   "version": "3.7.6"
  }
 },
 "nbformat": 4,
 "nbformat_minor": 4
}
