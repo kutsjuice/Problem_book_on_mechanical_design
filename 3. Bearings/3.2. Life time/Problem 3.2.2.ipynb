{
 "cells": [
  {
   "cell_type": "markdown",
   "metadata": {},
   "source": [
    "Шариковый однорядный радиально-упорный подшипник 46124К подвержен переменному циклу нагружения. Максимальное значение радиальной и осевой сил действующих на подшипник составляет $F_r = 22{\\mspace{5mu}}кН$ и $F_a = 5{\\mspace{5mu}}кН$ соответственно. График режима нагружения представлен на рисунке. Определить 10% ресурс, если динамическая грузоподъемность составляет $75{\\mspace{5mu}}кН$, а частота вращения $n = 340{\\mspace{5mu}}мин^{-1}$"
   ]
  }
 ],
 "metadata": {
  "kernelspec": {
   "display_name": "Python 3",
   "language": "python",
   "name": "python3"
  },
  "language_info": {
   "codemirror_mode": {
    "name": "ipython",
    "version": 3
   },
   "file_extension": ".py",
   "mimetype": "text/x-python",
   "name": "python",
   "nbconvert_exporter": "python",
   "pygments_lexer": "ipython3",
   "version": "3.7.6"
  }
 },
 "nbformat": 4,
 "nbformat_minor": 5
}
